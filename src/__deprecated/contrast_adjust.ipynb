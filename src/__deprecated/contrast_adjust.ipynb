{
 "cells": [
  {
   "cell_type": "code",
   "execution_count": null,
   "metadata": {},
   "outputs": [],
   "source": [
    "from skimage import io, exposure\n",
    "import matplotlib.pyplot as plt\n",
    "\n",
    "# 1) Load your image (auto‑detects bit depth)\n",
    "img = io.imread('path/to/image.tiff').astype(float)\n",
    "\n",
    "# 2) Normalize to [0,1]\n",
    "img /= img.max()\n",
    "\n",
    "# 3) Apply gamma correction (e.g. γ=0.5 to brighten, >1 to darken)\n",
    "img_gamma = exposure.adjust_gamma(img, gamma=0.5)\n",
    "\n",
    "# 4) Display\n",
    "plt.imshow(img_gamma, cmap='gray', vmin=0, vmax=1)\n",
    "plt.axis('off')\n",
    "plt.show()\n"
   ]
  }
 ],
 "metadata": {
  "language_info": {
   "name": "python"
  }
 },
 "nbformat": 4,
 "nbformat_minor": 2
}
